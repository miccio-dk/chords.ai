{
 "cells": [
  {
   "cell_type": "code",
   "execution_count": 24,
   "metadata": {},
   "outputs": [],
   "source": [
    "import os\n",
    "from audiolazy.lazy_midi import str2midi\n",
    "from mido import Message, MetaMessage, MidiFile, MidiTrack\n",
    "from mido import bpm2tempo, tempo2bpm, tick2second, second2tick"
   ]
  },
  {
   "cell_type": "code",
   "execution_count": 19,
   "metadata": {},
   "outputs": [],
   "source": []
  },
  {
   "cell_type": "code",
   "execution_count": 29,
   "metadata": {},
   "outputs": [],
   "source": [
    "tests = [\n",
    "    'A3_E4_A4_C#5 B3_D4_F#4_B4 A2_C#4_E4_A4 F#3_B3_F#4_B4 A3_B3_E4_B4 F#2_A3_C#4_F#4 E#3_C#4_G#4_C#5 A3_E4_C#5 B2_A3_D#4_F#4 C#3_G#3_C#4_E4 B2_D4_G#4_B4 D3_F#3_B3_F#4 D4_F#4_A4 G#3_B3_E4_B4 B2_B3_D4_E#4 B3_D#4_F#4 F#3_C#4_F#4_A4 B2_B3_D4_F#4 A#2_F#3_D4_F#4 F#3_C#4_A4 C#3_C#4_E#4_G#4 G#3_B3_F#4_B4 B2_D4_F#4_G#4 C#3_B3_D4_F#4 F#3_A#3_C#4_F#4 A#2_C#4_E4_F#4 F#3_D4_F#4_A4 B2_C#4_E4_F#4 A#2_F#3_C#4_F#4 C#3_E4_A4_C#5 C#3_A#3_C#4_F#4 E3_E4_G#4_B4 D3_B3_F#4 D3_B3_F#4 D3_B3_F#4 G#3_B3_F#4_B4 C#3_E4_A4_C#5 B2_A3_D#4_F#4 F#3_A#3_C#4_F#4 A3_B3_E4_B4 E3_E4_G#4_B4 D4_F#4_A4 G#3_B3_E4_B4 B2_A3_D#4_F#4 G#3_B3_F#4_B4 B3_D#4_F#4 B2_A3_D#4_F#4 D3_F#3_B3_F#4 A#2_C#4_E4_F#4 G#3_B3_E4_B4 D4_F#4_A4 B3_D#4_F#4 B3_D#4_F#4 F#3_C#4_F#4_A4 F#3_C#4_F#4_A4 F#3_C#4_A4 F#3_C#4_A4 C#3_C#4_E#4_G#4 C#3_C#4_E#4_G#4 B2_D4_F#4_G#4 C#3_B3_D4_F#4 F#3_C#4_A4 F#3_A#3_C#4_F#4 F#3_D4_F#4_A4 B2_A3_D#4_F#4 C#3_B3_D4_F#4 A#2_F#3_C#4_F#4 G#3_B3_E4_B4 D3_F#3_B3_F#4 B2_C#4_E4_F#4 C#3_B3_D4_F#4 B3_D#4_F#4 G#3_B3_E4_B4 F#3_D4_F#4_A4 B2_C#4_E4_F#4 C#3_E4_A4_C#5 C#3_E4_A4_C#5 C#3_A#3_C#4_F#4 E3_E4_G#4_B4 D3_B3_F#4 D3_B3_F#4 D3_B3_F#4 G#3_B3_F#4_B4 C#3_E4_A4_C#5 B2_A3_D#4_F#4 F#3_A#3_C#4_F#4 A3_B3_E4_B4 E3_E4_G#4_B4 D4_F#4_A4 G#3_B3_E4_B4 B2_A3_D#4_F#4 G#3_B3_F#4_B4 B3_D#4_F#4 B2_A3_D#4_F#4 D3_F#3_B3_F#4 A#2_C#4_E4_F#4 G#3_B3_E4_B4 D4_F#4_A4 B3_D#4_F#4 B3_D#4_F#4 F#3_C#4_F#4_A4 F#3_C#4_F#4_A4 F#3_C#4_A4 F#3_C#4_A4 C#3_C#4_E#4_G#4 C#3_C#4_E#4_G#4 B2_D4_F#4_G#4 C#3_B3_D4_F#4 F#3_C#4_A4 F#3_A#3_C#4_F#4 F#3_D4_F#4_A4 B2_A3_D#4_F#4 C#3_B3_D4_F#4 A#2_F#3_C#4_F#4 G#3_B3_E4_B4 D3_F#3_B3_F#4 B2_C#4_E4_F#4 C#3_B3_D4_F#4 B3_D#4_F#4 G#3_B3_E4_B4 F#3_D4_F#4_A4 B2_C#4_E4_F#4 C#3_E4_A4_C#5 C#3_E4_A4_C#5 C#3_A#3_C#4_F#4 E3_E4_G#4_B4 D3_B3_F#4 D3_B3_F#4 D3_B3_F#4 G#3_B3_F#4_B4 C#3_E4_A4_C#5 B2_A3_D#4_F#4 F#3_A#3_C#4_F#4 A3_B3_E4_B4 E3_E4_G#4_B4 D4_F#4_A4 G#3_B3_E4_B4 B2_A3_D#4_F#4 G#3_B3_F#4_B4 B3_D#4_F#4 B2_A3_D#4_F#4 D3_F#3_B3_F#4 A#2_C#4_E4_F#4 G#3_B3_E4_B4 D4_F#4_A4 B3_D#4_F#4 B3_D#4_F#4 F#3_C#4_F#4_A4 F#3_C#4_F#4_A4 F#3_C#4_A4 F#3_C#4_A4 C#3_C#4_E#4_G#4 C#3_C#4_E#4_G#4 B2_D4_F#4_G#4 C#3_B3_D4_F#4 F#3_C#4_A4 F#3_A#3_C#4_F#4 F#3_D4_F#4_A4 B2_A3_D#4_F#4 C#3_B3_D4_F#4 A#2_F#3_C#4_F#4 G#3_B3_E4_B4 D3_F#3_B3_F#4 B2_C#4_E4_F#4 C#3_B3_D4_F#4 B3_D#4_F#4 G#3_B3_E4_B4 F#3_D4_F#4_A4 B2_C#4_E4_F#4 C#3_E4_A4_C#5 C#3_E4_A4_C#5 C#3_A#3_C#4_F#4 E3_E4_G#4_B4 D3_B3_F#4 D3_B3_F#4 D3_B3_F#4 G#3_B3_F#4_B4 C#3_E4_A4_C#5 B2_A3_D#4_F#4 F#3_A#3_C#4_F#4 A3_B3_E4_B4 E3_E4_G#4_B4 D4_F#4_A4 G#3_B3_E4_B4 B2_A3_D#4_F#4 G#3_B3_F#4_B4 B3_D#4_F#4 B2_A3_D#4_F#4 D3_F#3_B3_F#4 A#2_C#4_E4_F#4 G#3_B3_E4_B4 D4_F#4_A4 B3_D#4_F#4 B3_D#4_F#4 F#3_C#4_F#4_A4 F#3_C#4_F#4_A4 F#3_C#4_A4 F#3_C#4_A4 C#3_C#4_E#4_G#4 C#3_C#4_E#4_G#4'\n",
    "]\n",
    "\n",
    "for i, test in enumerate(tests):\n",
    "    track = chord_to_midi(test)\n",
    "    store_chords(track, f'seq{i+1}.mid')\n"
   ]
  },
  {
   "cell_type": "code",
   "execution_count": null,
   "metadata": {},
   "outputs": [],
   "source": []
  }
 ],
 "metadata": {
  "kernelspec": {
   "display_name": "Python 3",
   "language": "python",
   "name": "python3"
  },
  "language_info": {
   "codemirror_mode": {
    "name": "ipython",
    "version": 3
   },
   "file_extension": ".py",
   "mimetype": "text/x-python",
   "name": "python",
   "nbconvert_exporter": "python",
   "pygments_lexer": "ipython3",
   "version": "3.8.1"
  }
 },
 "nbformat": 4,
 "nbformat_minor": 4
}
