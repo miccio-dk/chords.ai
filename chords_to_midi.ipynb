{
 "cells": [
  {
   "cell_type": "code",
   "execution_count": 24,
   "metadata": {},
   "outputs": [],
   "source": [
    "import os\n",
    "from audiolazy.lazy_midi import str2midi\n",
    "from mido import Message, MetaMessage, MidiFile, MidiTrack\n",
    "from mido import bpm2tempo, tempo2bpm, tick2second, second2tick"
   ]
  },
  {
   "cell_type": "code",
   "execution_count": 43,
   "metadata": {},
   "outputs": [],
   "source": [
    "def chord_to_midi(chords_str, chord_len=4, ticks_per_beat=96):\n",
    "    track = MidiTrack()\n",
    "    track.append(MetaMessage('track_name', name='\\x00', time=0))\n",
    "    track.append(MetaMessage('time_signature', numerator=4, denominator=4, \n",
    "                             clocks_per_click=36, notated_32nd_notes_per_beat=8, time=0))\n",
    "    \n",
    "    chords = chords_str.split(' ')\n",
    "    for chord in chords:\n",
    "        notes = chord.split('_')\n",
    "        midi_notes = [str2midi(note.replace('-', 'b')) for note in notes]\n",
    "        for midi_note in midi_notes:\n",
    "            track.append(Message('note_on', channel=0, note=midi_note, velocity=100, time=0))\n",
    "        for j, midi_note in enumerate(midi_notes):\n",
    "            time = ticks_per_beat*chord_len if j == 0 else 0\n",
    "            track.append(Message('note_off', channel=0, note=midi_note, velocity=100, time=time))\n",
    "    \n",
    "    track.append(MetaMessage('end_of_track', time=0))\n",
    "    return track"
   ]
  },
  {
   "cell_type": "code",
   "execution_count": 44,
   "metadata": {},
   "outputs": [],
   "source": [
    "def store_chords(track, filepath, ticks_per_beat=96):\n",
    "    mid = MidiFile()\n",
    "    mid.tracks.append(track)\n",
    "    mid.ticks_per_beat = ticks_per_beat\n",
    "    mid.filename = os.path.basename(filepath)\n",
    "    mid.save(filepath)    \n",
    "    return mid"
   ]
  },
  {
   "cell_type": "code",
   "execution_count": 45,
   "metadata": {},
   "outputs": [],
   "source": [
    "tests = [\n",
    "'E0_E2 E0_E2 B-1_E-3_C4_E-4_G4 E-0_G2_E-3',\n",
    "]\n",
    "\n",
    "for i, test in enumerate(tests):\n",
    "    track = chord_to_midi(test)\n",
    "    store_chords(track, f'seq{i+1}.mid')\n"
   ]
  },
  {
   "cell_type": "code",
   "execution_count": null,
   "metadata": {},
   "outputs": [],
   "source": []
  }
 ],
 "metadata": {
  "kernelspec": {
   "display_name": "Python 3",
   "language": "python",
   "name": "python3"
  },
  "language_info": {
   "codemirror_mode": {
    "name": "ipython",
    "version": 3
   },
   "file_extension": ".py",
   "mimetype": "text/x-python",
   "name": "python",
   "nbconvert_exporter": "python",
   "pygments_lexer": "ipython3",
   "version": "3.8.1"
  }
 },
 "nbformat": 4,
 "nbformat_minor": 4
}
